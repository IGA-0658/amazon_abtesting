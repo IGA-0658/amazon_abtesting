{
 "cells": [
  {
   "cell_type": "code",
   "execution_count": 1,
   "id": "037286af",
   "metadata": {},
   "outputs": [],
   "source": [
    "#Trataiento de datos\n",
    "import pandas as pd\n",
    "pd.set_option('display.max_columns',None)  # Lim columnas\n",
    "#-------------------\n",
    "\n",
    "#Exportacion de archivos SRC\n",
    "import sys\n",
    "sys.path.append('../')\n",
    "#-------------------\n",
    "\n",
    "#Funciones personalizadas\n",
    "from src import sp_limpieza as sl\n",
    "#--\n"
   ]
  },
  {
   "cell_type": "code",
   "execution_count": 2,
   "id": "876b7ba0",
   "metadata": {},
   "outputs": [
    {
     "data": {
      "text/html": [
       "<div>\n",
       "<style scoped>\n",
       "    .dataframe tbody tr th:only-of-type {\n",
       "        vertical-align: middle;\n",
       "    }\n",
       "\n",
       "    .dataframe tbody tr th {\n",
       "        vertical-align: top;\n",
       "    }\n",
       "\n",
       "    .dataframe thead th {\n",
       "        text-align: right;\n",
       "    }\n",
       "</style>\n",
       "<table border=\"1\" class=\"dataframe\">\n",
       "  <thead>\n",
       "    <tr style=\"text-align: right;\">\n",
       "      <th></th>\n",
       "      <th>User Id</th>\n",
       "      <th>Group</th>\n",
       "      <th>Visit Date</th>\n",
       "      <th>Conversion</th>\n",
       "      <th>Product Category</th>\n",
       "      <th>Product Id</th>\n",
       "      <th>Product Name</th>\n",
       "      <th>Quantity</th>\n",
       "      <th>Price</th>\n",
       "      <th>Discount</th>\n",
       "      <th>Total Value</th>\n",
       "      <th>Payment Method</th>\n",
       "      <th>Shipping Method</th>\n",
       "      <th>Region</th>\n",
       "      <th>Customer Age</th>\n",
       "      <th>Customer Gender</th>\n",
       "      <th>Device</th>\n",
       "      <th>Session Duration</th>\n",
       "      <th>Coupon Used</th>\n",
       "      <th>Browser</th>\n",
       "      <th>Referral Source</th>\n",
       "    </tr>\n",
       "  </thead>\n",
       "  <tbody>\n",
       "    <tr>\n",
       "      <th>1311</th>\n",
       "      <td>1312</td>\n",
       "      <td>B</td>\n",
       "      <td>2022-03-13</td>\n",
       "      <td>0</td>\n",
       "      <td>SPORTS</td>\n",
       "      <td>P1072</td>\n",
       "      <td>Running Shoes</td>\n",
       "      <td>0</td>\n",
       "      <td>53,42</td>\n",
       "      <td>0,07</td>\n",
       "      <td>0,0</td>\n",
       "      <td>NaN</td>\n",
       "      <td>NaN</td>\n",
       "      <td>West</td>\n",
       "      <td>NaN</td>\n",
       "      <td>F</td>\n",
       "      <td>Mobile</td>\n",
       "      <td>2</td>\n",
       "      <td>NaN</td>\n",
       "      <td>Chrooome</td>\n",
       "      <td>Organic</td>\n",
       "    </tr>\n",
       "    <tr>\n",
       "      <th>348</th>\n",
       "      <td>349</td>\n",
       "      <td>A</td>\n",
       "      <td>2022-02-13</td>\n",
       "      <td>0</td>\n",
       "      <td>FASHHION</td>\n",
       "      <td>P1643</td>\n",
       "      <td>T-shirt</td>\n",
       "      <td>0</td>\n",
       "      <td>67,81</td>\n",
       "      <td>0,16</td>\n",
       "      <td>0,0</td>\n",
       "      <td>NaN</td>\n",
       "      <td>NaN</td>\n",
       "      <td>South</td>\n",
       "      <td>69.0</td>\n",
       "      <td>M</td>\n",
       "      <td>Desktop</td>\n",
       "      <td>30</td>\n",
       "      <td>NaN</td>\n",
       "      <td>Ottttther</td>\n",
       "      <td>Organic</td>\n",
       "    </tr>\n",
       "    <tr>\n",
       "      <th>309</th>\n",
       "      <td>310</td>\n",
       "      <td>A</td>\n",
       "      <td>2022-02-22</td>\n",
       "      <td>0</td>\n",
       "      <td>BEAUTY</td>\n",
       "      <td>P1298</td>\n",
       "      <td>Perfume</td>\n",
       "      <td>0</td>\n",
       "      <td>NaN</td>\n",
       "      <td>0,11</td>\n",
       "      <td>0,0</td>\n",
       "      <td>NaN</td>\n",
       "      <td>NaN</td>\n",
       "      <td>Central</td>\n",
       "      <td>52.0</td>\n",
       "      <td>F</td>\n",
       "      <td>Mobile</td>\n",
       "      <td>1</td>\n",
       "      <td>NaN</td>\n",
       "      <td>Ottttther</td>\n",
       "      <td>PAID</td>\n",
       "    </tr>\n",
       "    <tr>\n",
       "      <th>764</th>\n",
       "      <td>765</td>\n",
       "      <td>A</td>\n",
       "      <td>2022-01-01</td>\n",
       "      <td>0</td>\n",
       "      <td>TOYS</td>\n",
       "      <td>P1544</td>\n",
       "      <td>Board Game</td>\n",
       "      <td>0</td>\n",
       "      <td>49,13</td>\n",
       "      <td>0,1</td>\n",
       "      <td>0,0</td>\n",
       "      <td>NaN</td>\n",
       "      <td>NaN</td>\n",
       "      <td>South</td>\n",
       "      <td>68.0</td>\n",
       "      <td>F</td>\n",
       "      <td>Desktop</td>\n",
       "      <td>28</td>\n",
       "      <td>NaN</td>\n",
       "      <td>Ottttther</td>\n",
       "      <td>Organic</td>\n",
       "    </tr>\n",
       "    <tr>\n",
       "      <th>1871</th>\n",
       "      <td>1872</td>\n",
       "      <td>A</td>\n",
       "      <td>2022-03-03</td>\n",
       "      <td>0</td>\n",
       "      <td>BEAUTY</td>\n",
       "      <td>P1382</td>\n",
       "      <td>Lipstick</td>\n",
       "      <td>0</td>\n",
       "      <td>52,61</td>\n",
       "      <td>0,08</td>\n",
       "      <td>0,0</td>\n",
       "      <td>NaN</td>\n",
       "      <td>NaN</td>\n",
       "      <td>South</td>\n",
       "      <td>60.0</td>\n",
       "      <td>M</td>\n",
       "      <td>Desktop</td>\n",
       "      <td>27</td>\n",
       "      <td>NaN</td>\n",
       "      <td>Safaaaaari</td>\n",
       "      <td>PAID</td>\n",
       "    </tr>\n",
       "  </tbody>\n",
       "</table>\n",
       "</div>"
      ],
      "text/plain": [
       "      User Id Group  Visit Date  Conversion Product Category Product Id  \\\n",
       "1311     1312     B  2022-03-13           0           SPORTS      P1072   \n",
       "348       349     A  2022-02-13           0         FASHHION      P1643   \n",
       "309       310     A  2022-02-22           0           BEAUTY      P1298   \n",
       "764       765     A  2022-01-01           0             TOYS      P1544   \n",
       "1871     1872     A  2022-03-03           0           BEAUTY      P1382   \n",
       "\n",
       "       Product Name  Quantity  Price Discount Total Value Payment Method  \\\n",
       "1311  Running Shoes         0  53,42     0,07         0,0            NaN   \n",
       "348         T-shirt         0  67,81     0,16         0,0            NaN   \n",
       "309         Perfume         0    NaN     0,11         0,0            NaN   \n",
       "764      Board Game         0  49,13      0,1         0,0            NaN   \n",
       "1871       Lipstick         0  52,61     0,08         0,0            NaN   \n",
       "\n",
       "     Shipping Method   Region  Customer Age Customer Gender   Device  \\\n",
       "1311             NaN     West           NaN               F   Mobile   \n",
       "348              NaN    South          69.0               M  Desktop   \n",
       "309              NaN  Central          52.0               F   Mobile   \n",
       "764              NaN    South          68.0               F  Desktop   \n",
       "1871             NaN    South          60.0               M  Desktop   \n",
       "\n",
       "      Session Duration Coupon Used     Browser Referral Source  \n",
       "1311                 2         NaN    Chrooome         Organic  \n",
       "348                 30         NaN   Ottttther         Organic  \n",
       "309                  1         NaN   Ottttther            PAID  \n",
       "764                 28         NaN   Ottttther         Organic  \n",
       "1871                27         NaN  Safaaaaari            PAID  "
      ]
     },
     "execution_count": 2,
     "metadata": {},
     "output_type": "execute_result"
    }
   ],
   "source": [
    "df_raw = pd.read_csv ('../data/data_raw.csv')\n",
    "df_raw.sample(5)\n"
   ]
  },
  {
   "cell_type": "markdown",
   "id": "58b03f9a",
   "metadata": {},
   "source": [
    "### * Copia de DF para no miodificar el original"
   ]
  },
  {
   "cell_type": "code",
   "execution_count": 3,
   "id": "173dd9d2",
   "metadata": {},
   "outputs": [],
   "source": [
    "df = df_raw.copy()"
   ]
  },
  {
   "cell_type": "markdown",
   "id": "e54c00d9",
   "metadata": {},
   "source": [
    "### Cambio columnas, minúscula y sin espacios"
   ]
  },
  {
   "cell_type": "code",
   "execution_count": 4,
   "id": "9e0bb506",
   "metadata": {},
   "outputs": [],
   "source": [
    "df.columns = df.columns.str.replace(' ','_').str.lower()"
   ]
  },
  {
   "cell_type": "markdown",
   "id": "b39e9e66",
   "metadata": {},
   "source": [
    "### Cambio visit_date a fecha"
   ]
  },
  {
   "cell_type": "code",
   "execution_count": 5,
   "id": "31730e0b",
   "metadata": {},
   "outputs": [],
   "source": [
    "df['visit_date'] = pd.to_datetime(df['visit_date'], format='%Y-%m-%d')"
   ]
  },
  {
   "cell_type": "markdown",
   "id": "3afc0ada",
   "metadata": {},
   "source": [
    "### Conversión a STR"
   ]
  },
  {
   "cell_type": "code",
   "execution_count": 6,
   "id": "0b202535",
   "metadata": {},
   "outputs": [],
   "source": [
    "df['conversion_str'] = df['conversion'].apply(lambda x: 'yes' if x==1 else 'no')"
   ]
  },
  {
   "cell_type": "markdown",
   "id": "bba4c0e9",
   "metadata": {},
   "source": [
    "### Product category, cambiar fashhion."
   ]
  },
  {
   "cell_type": "code",
   "execution_count": 7,
   "id": "bd0e9669",
   "metadata": {},
   "outputs": [],
   "source": [
    "df['product_category'] = df['product_category'].str.replace('fashhion','fashion')"
   ]
  },
  {
   "cell_type": "markdown",
   "id": "67f7fab7",
   "metadata": {},
   "source": [
    "### Product Id, cambiar a num"
   ]
  },
  {
   "cell_type": "code",
   "execution_count": 8,
   "id": "c42760b2",
   "metadata": {},
   "outputs": [],
   "source": [
    "df['product_id'] = df['product_id'].str.replace('P','')\n",
    "df['product_id'] = df['product_id'].astype('int64')"
   ]
  },
  {
   "cell_type": "markdown",
   "id": "7839ceaa",
   "metadata": {},
   "source": [
    "### Cambiar a minúscula"
   ]
  },
  {
   "cell_type": "code",
   "execution_count": 9,
   "id": "7605b0e1",
   "metadata": {},
   "outputs": [],
   "source": [
    "sl.minus(df)"
   ]
  },
  {
   "cell_type": "markdown",
   "id": "3edf7513",
   "metadata": {},
   "source": [
    "### Cambiar ',' por '.' y tipo float."
   ]
  },
  {
   "cell_type": "code",
   "execution_count": 10,
   "id": "2fe61821",
   "metadata": {},
   "outputs": [],
   "source": [
    "sl.comas(df)"
   ]
  },
  {
   "cell_type": "markdown",
   "id": "b30bbc4e",
   "metadata": {},
   "source": [
    "### Cambiar espacios ' ' por '_'. \n"
   ]
  },
  {
   "cell_type": "code",
   "execution_count": 11,
   "id": "f15235b0",
   "metadata": {},
   "outputs": [],
   "source": [
    "sl.espacios(df)"
   ]
  },
  {
   "cell_type": "markdown",
   "id": "d1e0bf79",
   "metadata": {},
   "source": [
    "### Map de Browser"
   ]
  },
  {
   "cell_type": "code",
   "execution_count": 12,
   "id": "a3c74aa6",
   "metadata": {},
   "outputs": [],
   "source": [
    "dicc_map = {'safaaaaari': 'safari', \n",
    "            'ottttther': 'other', \n",
    "            'firefoxxxxxx': 'firefox', \n",
    "            'eddddge': 'edge', \n",
    "            'chrooome': 'chrome'}"
   ]
  },
  {
   "cell_type": "code",
   "execution_count": 13,
   "id": "41bca20b",
   "metadata": {},
   "outputs": [],
   "source": [
    "df['browser'] = df['browser'].map(dicc_map)"
   ]
  },
  {
   "cell_type": "code",
   "execution_count": 15,
   "id": "017d617a",
   "metadata": {},
   "outputs": [],
   "source": [
    "df.to_csv ('../data/data_limpio.csv', index=False)"
   ]
  }
 ],
 "metadata": {
  "kernelspec": {
   "display_name": "proyecto_ab_amazon",
   "language": "python",
   "name": "python3"
  },
  "language_info": {
   "codemirror_mode": {
    "name": "ipython",
    "version": 3
   },
   "file_extension": ".py",
   "mimetype": "text/x-python",
   "name": "python",
   "nbconvert_exporter": "python",
   "pygments_lexer": "ipython3",
   "version": "3.12.1"
  }
 },
 "nbformat": 4,
 "nbformat_minor": 5
}
