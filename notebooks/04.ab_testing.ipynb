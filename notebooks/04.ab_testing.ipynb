{
 "cells": [
  {
   "cell_type": "markdown",
   "id": "4d7125d3",
   "metadata": {},
   "source": [
    "# AB Testing"
   ]
  },
  {
   "cell_type": "code",
   "execution_count": null,
   "id": "879fe468",
   "metadata": {},
   "outputs": [],
   "source": [
    "#Trataiento de datos\n",
    "import pandas as pd\n",
    "pd.set_option('display.max_columns',None)  # Lim columnas\n",
    "#-------------------\n"
   ]
  },
  {
   "cell_type": "code",
   "execution_count": null,
   "id": "2d4d6001",
   "metadata": {},
   "outputs": [],
   "source": []
  }
 ],
 "metadata": {
  "kernelspec": {
   "display_name": "proyecto_ab_amazon",
   "language": "python",
   "name": "python3"
  },
  "language_info": {
   "name": "python",
   "version": "3.12.1"
  }
 },
 "nbformat": 4,
 "nbformat_minor": 5
}
