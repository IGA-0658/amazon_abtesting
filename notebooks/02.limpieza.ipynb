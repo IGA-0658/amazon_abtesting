{
 "cells": [
  {
   "cell_type": "markdown",
   "id": "145e6a6c",
   "metadata": {},
   "source": [
    "# Limpieza a realizar"
   ]
  },
  {
   "cell_type": "markdown",
   "id": "0419f6ba",
   "metadata": {},
   "source": [
    "- **Visit Date** -> Cambiar a tipo fecha\n",
    "- **Conversion** -> Cambiar a str??\n",
    "- **Product Category** -> Cambiar a minus. Cambiar fashhion a fashion.\n",
    "- **Product Id** -> Cambiar a num??\n",
    "- **Product Name** -> Cambiar espacios por '_'.\n",
    "- **Price** -> Tiene 40 nulos (2%). Cambiar ',' por '.' decimal formato americano y cambiar tipo float.\n",
    "- **Discount** -> Tiene 40 nulos (2%). Cambiar ',' por '.' decimal formato americano y cambiar tipo float.\n",
    "- **Total Value** -> Cambiar ',' por '.' decimal formato americano y cambiar tipo float.\n",
    "- **Payment Method** -> Al parecer tiene 1753 nulos (87.65%). \n",
    "- **Shipping Method** -> Al parecer tiene 1753 nulos (87.65%).\n",
    "- **Customer Age** -> Tiene 40 nulos.\n",
    "- **Device** -> Cambiar a minusc.\n",
    "- **Coupon Used** -> Al parecer tiene 1753 nulos (87.65%).\n",
    "- **Browser** -> Cambiar categorías, están mal escritas.\n",
    "- **Referral Source** -> Cambiar a minusc.\n"
   ]
  }
 ],
 "metadata": {
  "language_info": {
   "name": "python"
  }
 },
 "nbformat": 4,
 "nbformat_minor": 5
}
