{
 "cells": [
  {
   "cell_type": "markdown",
   "id": "caf86bf8",
   "metadata": {},
   "source": [
    "# Nulos a gestionar"
   ]
  },
  {
   "cell_type": "markdown",
   "id": "a837c869",
   "metadata": {},
   "source": [
    "- **Price** -> Tiene 40 nulos (2%).\n",
    "- **Discount** -> Tiene 40 nulos (2%).\n",
    "- **Payment Method** -> Al parecer tiene 1753 nulos (87.65%). \n",
    "- **Shipping Method** -> Al parecer tiene 1753 nulos (87.65%).\n",
    "- **Customer Age** -> Tiene 40 nulos.\n",
    "- **Coupon Used** -> Al parecer tiene 1753 nulos (87.65%)."
   ]
  }
 ],
 "metadata": {
  "language_info": {
   "name": "python"
  }
 },
 "nbformat": 4,
 "nbformat_minor": 5
}
